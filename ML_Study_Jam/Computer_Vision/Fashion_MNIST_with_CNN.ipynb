{
  "nbformat": 4,
  "nbformat_minor": 0,
  "metadata": {
    "colab": {
      "provenance": []
    },
    "kernelspec": {
      "name": "python3",
      "display_name": "Python 3"
    },
    "language_info": {
      "name": "python"
    },
    "accelerator": "GPU",
    "gpuClass": "standard"
  },
  "cells": [
    {
      "cell_type": "markdown",
      "source": [
        "# **Multi-Class classification on fashion Mnist dataset using CNN model**\n",
        "\n",
        "Contributed by Sayak Bhattacharya\n",
        "\n",
        "Github [GDSC TMSL ML WORKSHOP 2023](https://github.com/GDSC-TMSL/ML-Study-Jams-2023/tree/main/ML_Study_Jam/Computer_Vision)"
      ],
      "metadata": {
        "id": "ikXIBK_dfqv3"
      }
    },
    {
      "cell_type": "code",
      "execution_count": null,
      "metadata": {
        "id": "nsYflcz5-thG"
      },
      "outputs": [],
      "source": [
        "import tensorflow as tf\n",
        "import matplotlib.pyplot as plt\n",
        "import numpy as np\n",
        "import pandas as pd\n",
        "\n",
        "from tensorflow.keras.layers import Input, Conv2D, Dense, Flatten, Dropout\n",
        "from tensorflow.keras.models import Model"
      ]
    },
    {
      "cell_type": "markdown",
      "source": [
        "## **Classifying Fashion MNIST classes by building a DL model with Keras functional API**"
      ],
      "metadata": {
        "id": "v-nnoXKCAGyV"
      }
    },
    {
      "cell_type": "code",
      "source": [
        "#Loading in the data from Keras's datasets\n",
        "\n",
        "fashion_mnist = tf.keras.datasets.fashion_mnist\n",
        "\n",
        "(x_train, y_train), (x_test, y_test) = fashion_mnist.load_data()\n",
        "x_train, x_test = x_train / 255.0, x_test / 255.0\n",
        "print(\"Training Dataset size: \",x_train.shape)"
      ],
      "metadata": {
        "colab": {
          "base_uri": "https://localhost:8080/"
        },
        "id": "L41KTmHaAghc",
        "outputId": "db3861f7-b3fb-435b-d2ca-a2bc7a281f8e"
      },
      "execution_count": null,
      "outputs": [
        {
          "output_type": "stream",
          "name": "stdout",
          "text": [
            "Downloading data from https://storage.googleapis.com/tensorflow/tf-keras-datasets/train-labels-idx1-ubyte.gz\n",
            "29515/29515 [==============================] - 0s 0us/step\n",
            "Downloading data from https://storage.googleapis.com/tensorflow/tf-keras-datasets/train-images-idx3-ubyte.gz\n",
            "26421880/26421880 [==============================] - 0s 0us/step\n",
            "Downloading data from https://storage.googleapis.com/tensorflow/tf-keras-datasets/t10k-labels-idx1-ubyte.gz\n",
            "5148/5148 [==============================] - 0s 0us/step\n",
            "Downloading data from https://storage.googleapis.com/tensorflow/tf-keras-datasets/t10k-images-idx3-ubyte.gz\n",
            "4422102/4422102 [==============================] - 0s 0us/step\n",
            "Training Dataset size:  (60000, 28, 28)\n"
          ]
        }
      ]
    },
    {
      "cell_type": "markdown",
      "source": [
        "### **As we can see from the above Training dataset dimensions, there are only 3 dimensions of the form N * W * H, but, for training a CNN, we need data of the dimension N * W * H * C (No. of training examples, Width, Height, Colour Channel)** "
      ],
      "metadata": {
        "id": "5hJGQc06CUjd"
      }
    },
    {
      "cell_type": "code",
      "source": [
        "# Adding 1 extra dimension in training and testing set\n",
        "\n",
        "x_train = np.expand_dims(x_train, -1)\n",
        "x_test = np.expand_dims(x_test, -1)\n",
        "print(x_train.shape)"
      ],
      "metadata": {
        "id": "q-T2parIDP5t",
        "colab": {
          "base_uri": "https://localhost:8080/"
        },
        "outputId": "505c1a6f-2c0e-4bad-fa57-6b23ce5afd8e"
      },
      "execution_count": null,
      "outputs": [
        {
          "output_type": "stream",
          "name": "stdout",
          "text": [
            "(60000, 28, 28, 1)\n"
          ]
        }
      ]
    },
    {
      "cell_type": "code",
      "source": [
        "# Calculating no. of classes\n",
        "\n",
        "K = len(set(y_train))\n",
        "print('No of classes in output set is: ',K)"
      ],
      "metadata": {
        "id": "0hNcTn1sDsPX",
        "colab": {
          "base_uri": "https://localhost:8080/"
        },
        "outputId": "e3b8f32b-345d-4139-cbcf-d6e999186ba4"
      },
      "execution_count": null,
      "outputs": [
        {
          "output_type": "stream",
          "name": "stdout",
          "text": [
            "No of classes in output set is:  10\n"
          ]
        }
      ]
    },
    {
      "cell_type": "code",
      "source": [
        "# Building the model using Keras functional API\n",
        "\n",
        "i = Input(shape=x_train[0].shape)\n",
        "x = Conv2D(32, kernel_size=(3,3), strides=2, activation='relu')(i)\n",
        "x = Conv2D(64, kernel_size=(3,3), strides=2, activation='relu')(x)\n",
        "x = Conv2D(128, kernel_size=(3,3), strides=2, activation='relu')(x)\n",
        "\n",
        "x = Flatten()(x)\n",
        "x = Dropout(0.2)(x)\n",
        "x = Dense(512, activation='relu')(x)\n",
        "x = Dropout(0.2)(x)\n",
        "x = Dense(K, activation='softmax')(x)\n",
        "\n",
        "model = Model(i,x)"
      ],
      "metadata": {
        "id": "cl3bQJTZD8Ju"
      },
      "execution_count": null,
      "outputs": []
    },
    {
      "cell_type": "code",
      "source": [
        "# Compiling and fitting the Model\n",
        "\n",
        "model.compile(optimizer = 'adam',\n",
        "              loss = 'sparse_categorical_crossentropy',\n",
        "              metrics=['accuracy'])\n",
        "r = model.fit(x_train, y_train, validation_data=(x_test, y_test), epochs=15)"
      ],
      "metadata": {
        "id": "ro41HEESE2Pn",
        "colab": {
          "base_uri": "https://localhost:8080/"
        },
        "outputId": "f1e2f79e-515a-4bb0-b6a8-c449a0a1d45d"
      },
      "execution_count": null,
      "outputs": [
        {
          "output_type": "stream",
          "name": "stdout",
          "text": [
            "Epoch 1/15\n",
            "1875/1875 [==============================] - 19s 4ms/step - loss: 0.5242 - accuracy: 0.8060 - val_loss: 0.4076 - val_accuracy: 0.8442\n",
            "Epoch 2/15\n",
            "1875/1875 [==============================] - 8s 4ms/step - loss: 0.3620 - accuracy: 0.8626 - val_loss: 0.3591 - val_accuracy: 0.8642\n",
            "Epoch 3/15\n",
            "1875/1875 [==============================] - 7s 4ms/step - loss: 0.3146 - accuracy: 0.8813 - val_loss: 0.3567 - val_accuracy: 0.8647\n",
            "Epoch 4/15\n",
            "1875/1875 [==============================] - 8s 4ms/step - loss: 0.2829 - accuracy: 0.8938 - val_loss: 0.3024 - val_accuracy: 0.8880\n",
            "Epoch 5/15\n",
            "1875/1875 [==============================] - 7s 4ms/step - loss: 0.2561 - accuracy: 0.9030 - val_loss: 0.2979 - val_accuracy: 0.8908\n",
            "Epoch 6/15\n",
            "1875/1875 [==============================] - 8s 4ms/step - loss: 0.2371 - accuracy: 0.9110 - val_loss: 0.3056 - val_accuracy: 0.8886\n",
            "Epoch 7/15\n",
            "1875/1875 [==============================] - 8s 4ms/step - loss: 0.2174 - accuracy: 0.9171 - val_loss: 0.2892 - val_accuracy: 0.8948\n",
            "Epoch 8/15\n",
            "1875/1875 [==============================] - 8s 4ms/step - loss: 0.2005 - accuracy: 0.9230 - val_loss: 0.2944 - val_accuracy: 0.8989\n",
            "Epoch 9/15\n",
            "1875/1875 [==============================] - 8s 4ms/step - loss: 0.1853 - accuracy: 0.9286 - val_loss: 0.3071 - val_accuracy: 0.8969\n",
            "Epoch 10/15\n",
            "1875/1875 [==============================] - 8s 4ms/step - loss: 0.1738 - accuracy: 0.9339 - val_loss: 0.3083 - val_accuracy: 0.8988\n",
            "Epoch 11/15\n",
            "1875/1875 [==============================] - 8s 4ms/step - loss: 0.1638 - accuracy: 0.9375 - val_loss: 0.3057 - val_accuracy: 0.9002\n",
            "Epoch 12/15\n",
            "1875/1875 [==============================] - 8s 4ms/step - loss: 0.1542 - accuracy: 0.9411 - val_loss: 0.3244 - val_accuracy: 0.8986\n",
            "Epoch 13/15\n",
            "1875/1875 [==============================] - 7s 4ms/step - loss: 0.1435 - accuracy: 0.9442 - val_loss: 0.3303 - val_accuracy: 0.9008\n",
            "Epoch 14/15\n",
            "1875/1875 [==============================] - 8s 4ms/step - loss: 0.1354 - accuracy: 0.9482 - val_loss: 0.3494 - val_accuracy: 0.8952\n",
            "Epoch 15/15\n",
            "1875/1875 [==============================] - 7s 4ms/step - loss: 0.1299 - accuracy: 0.9487 - val_loss: 0.3454 - val_accuracy: 0.8999\n"
          ]
        }
      ]
    },
    {
      "cell_type": "code",
      "source": [
        "# Plotting loss per iteration\n",
        "plt.plot(r.history['loss'],label='loss')\n",
        "plt.plot(r.history['val_loss'],label='val_loss')\n",
        "plt.legend()"
      ],
      "metadata": {
        "id": "b5JxwrHqFw7A",
        "colab": {
          "base_uri": "https://localhost:8080/",
          "height": 282
        },
        "outputId": "30d5aee6-29d5-4e5a-ee22-a3910de5e16a"
      },
      "execution_count": null,
      "outputs": [
        {
          "output_type": "execute_result",
          "data": {
            "text/plain": [
              "<matplotlib.legend.Legend at 0x7f0f8c431650>"
            ]
          },
          "metadata": {},
          "execution_count": 7
        },
        {
          "output_type": "display_data",
          "data": {
            "text/plain": [
              "<Figure size 432x288 with 1 Axes>"
            ],
            "image/png": "[encoded data removed]"
          },
          "metadata": {
            "needs_background": "light"
          }
        }
      ]
    },
    {
      "cell_type": "code",
      "source": [
        "# Plotting accuracy per iteration\n",
        "plt.plot(r.history['accuracy'],label='accuracy')\n",
        "plt.plot(r.history['val_accuracy'],label='val_accuracy')\n",
        "plt.legend()"
      ],
      "metadata": {
        "id": "mAcOS2jGHv50",
        "colab": {
          "base_uri": "https://localhost:8080/",
          "height": 282
        },
        "outputId": "dd3ca0b8-0746-4829-b85b-247cc32ebe9a"
      },
      "execution_count": null,
      "outputs": [
        {
          "output_type": "execute_result",
          "data": {
            "text/plain": [
              "<matplotlib.legend.Legend at 0x7f0f8c076550>"
            ]
          },
          "metadata": {},
          "execution_count": 8
        },
        {
          "output_type": "display_data",
          "data": {
            "text/plain": [
              "<Figure size 432x288 with 1 Axes>"
            ],
            "image/png": "[encoded data removed]"
          },
          "metadata": {
            "needs_background": "light"
          }
        }
      ]
    },
    {
      "cell_type": "code",
      "source": [
        "# Evaluating our model\n",
        "\n",
        "print(model.evaluate(x_test, y_test))"
      ],
      "metadata": {
        "id": "QmH8kno_JHcW",
        "colab": {
          "base_uri": "https://localhost:8080/"
        },
        "outputId": "6c2308fa-7bca-4d82-86e4-8362da9dfdfa"
      },
      "execution_count": null,
      "outputs": [
        {
          "output_type": "stream",
          "name": "stdout",
          "text": [
            "313/313 [==============================] - 1s 3ms/step - loss: 0.3454 - accuracy: 0.8999\n",
            "[0.34543880820274353, 0.8999000191688538]\n"
          ]
        }
      ]
    },
    {
      "cell_type": "markdown",
      "source": [
        "## **Plotting a Confusion Matrix for the classification**"
      ],
      "metadata": {
        "id": "NK6roObjIxWA"
      }
    },
    {
      "cell_type": "code",
      "source": [
        "from sklearn.metrics import confusion_matrix\n",
        "import itertools\n",
        "\n",
        "def plot_confusion_matrix(cm, classes, normalize='False', title='Confusion Matrix', cmap='spring'):\n",
        "\n",
        "  # This function returns a confusion matrix. Normalization can be applied by setting normalize=True\n",
        "\n",
        "  if normalize:\n",
        "    cm = cm.astype('float') / cm.sum(axis=1)[:,np.newaxis] #astype() is used to convert a pandas object to a particular datatype\n",
        "    print('Normalized Confusion Matrix')\n",
        "  else:\n",
        "    print('Confusion Matrix, without normalization')\n",
        "  \n",
        "  print(cm)\n",
        "\n",
        "  #used when display resolution and image resolution are not same(Displays the exact image)\n",
        "  plt.imshow(cm, interpolation='nearest', cmap=cmap) \n",
        "\n",
        "  plt.title(title)\n",
        "  plt.colorbar()\n",
        "  tick_marks = np.arange(len(classes)) # No. of tick marks generated as per the no of classes\n",
        "  plt.xticks(tick_marks, classes, rotation=45)\n",
        "  plt.yticks(tick_marks, classes)\n",
        "\n",
        "  fmt = '.2f' if normalize else 'd'\n",
        "  thresh = cm.max()/2.0\n",
        "  for i,j in itertools.product(range(cm.shape[0]), range(cm.shape[1])):\n",
        "    plt.text(j, i, format( cm[i, j], fmt), horizontalalignment = 'center', color = 'red' if cm[i,j] > thresh else 'black')\n",
        "\n",
        "  plt.tight_layout()\n",
        "  plt.ylabel('True Label')\n",
        "  plt.xlabel('Predicted Label')\n",
        "  plt.show()\n",
        "\n",
        "p_test = model.predict(x_test).argmax(axis=1)\n",
        "cm = confusion_matrix(y_test, p_test)\n",
        "plot_confusion_matrix(cm, list(range(10)), False) # Sending the confusion matrix and 10 class indexes to the plot function"
      ],
      "metadata": {
        "colab": {
          "base_uri": "https://localhost:8080/",
          "height": 519
        },
        "id": "fIa12AF7JBG4",
        "outputId": "74a5741a-5ac8-4afd-891f-e2abd87f66f8"
      },
      "execution_count": null,
      "outputs": [
        {
          "output_type": "stream",
          "name": "stdout",
          "text": [
            "313/313 [==============================] - 1s 2ms/step\n",
            "Confusion Matrix, without normalization\n",
            "[[836   1  23  22   2   2 106   0   8   0]\n",
            " [  5 974   0  12   2   0   3   0   4   0]\n",
            " [ 24   0 879  10  27   1  57   0   2   0]\n",
            " [ 14   3  17 922  23   0  21   0   0   0]\n",
            " [  0   1 103  27 775   0  92   0   2   0]\n",
            " [  1   1   0   0   0 964   0  18   1  15]\n",
            " [103   0  63  27  56   0 744   0   7   0]\n",
            " [  0   0   0   0   0   8   0 972   0  20]\n",
            " [  3   0   5   4   2   2   3   2 978   1]\n",
            " [  1   0   0   0   0   4   0  40   0 955]]\n"
          ]
        },
        {
          "output_type": "display_data",
          "data": {
            "text/plain": [
              "<Figure size 432x288 with 2 Axes>"
            ],
            "image/png": "[encoded data removed]"
          },
          "metadata": {
            "needs_background": "light"
          }
        }
      ]
    },
    {
      "cell_type": "markdown",
      "source": [
        "## **Showing misclassified examples**"
      ],
      "metadata": {
        "id": "9GP0JUfvJYpA"
      }
    },
    {
      "cell_type": "code",
      "source": [
        "labels = ['T-shirt/top', 'Trouser', 'Pullover', 'Dress', 'Coat', 'Sandal', 'Shirt', 'Sneaker', 'Bag', 'Ankle Boot']\n",
        "\n",
        "misclassified_idx = np.where(p_test != y_test)[0]\n",
        "i = np.random.choice(misclassified_idx)\n",
        "plt.imshow(x_test[i].reshape(28,28), cmap='gray')\n",
        "plt.title(f'True Label:{labels[y_test[i]]}   Predicted Label:{labels[p_test[i]]}')"
      ],
      "metadata": {
        "colab": {
          "base_uri": "https://localhost:8080/",
          "height": 298
        },
        "id": "fZJBB08VJrxX",
        "outputId": "89971308-a73c-4e66-f672-18f57abd3998"
      },
      "execution_count": null,
      "outputs": [
        {
          "output_type": "execute_result",
          "data": {
            "text/plain": [
              "Text(0.5, 1.0, 'True Label:Pullover   Predicted Label:T-shirt/top')"
            ]
          },
          "metadata": {},
          "execution_count": 12
        },
        {
          "output_type": "display_data",
          "data": {
            "text/plain": [
              "<Figure size 432x288 with 1 Axes>"
            ],
            "image/png": "[encoded data removed]"
          },
          "metadata": {
            "needs_background": "light"
          }
        }
      ]
    },
    {
      "cell_type": "code",
      "source": [],
      "metadata": {
        "id": "nBgh7cI4KbAI"
      },
      "execution_count": null,
      "outputs": []
    }
  ]
}