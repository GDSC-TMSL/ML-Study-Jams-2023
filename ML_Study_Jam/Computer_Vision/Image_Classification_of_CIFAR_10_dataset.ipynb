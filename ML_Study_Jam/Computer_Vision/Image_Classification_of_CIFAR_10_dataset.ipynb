{
  "nbformat": 4,
  "nbformat_minor": 0,
  "metadata": {
    "colab": {
      "provenance": []
    },
    "kernelspec": {
      "name": "python3",
      "display_name": "Python 3"
    },
    "language_info": {
      "name": "python"
    },
    "accelerator": "GPU",
    "gpuClass": "standard"
  },
  "cells": [
    {
      "cell_type": "markdown",
      "source": [
        "# **Multi-Class classification on CIFAR-10 dataset using VGG-16 inspired CNN model**\n",
        "\n",
        "Contributed by Sayak Bhattacharya\n",
        "\n",
        "Github [GDSC TMSL ML WORKSHOP 2023](https://github.com/GDSC-TMSL/ML-Study-Jams-2023/tree/main/ML_Study_Jam/Computer_Vision)"
      ],
      "metadata": {
        "id": "TW2N3tL6e6mf"
      }
    },
    {
      "cell_type": "code",
      "execution_count": null,
      "metadata": {
        "id": "eyLB70yO-tSv"
      },
      "outputs": [],
      "source": [
        "import tensorflow as tf\n",
        "import matplotlib.pyplot as plt\n",
        "import numpy as np\n",
        "import pandas as pd\n",
        "\n",
        "from tensorflow.keras.layers import Input, Conv2D, Dense, Flatten, Dropout, GlobalMaxPooling2D, MaxPooling2D, BatchNormalization\n",
        "from tensorflow.keras.models import Model"
      ]
    },
    {
      "cell_type": "markdown",
      "source": [
        "## **Classifying CIFAR-10 classes by building a DL model with Keras functional API**"
      ],
      "metadata": {
        "id": "HbFlyhAS_TmL"
      }
    },
    {
      "cell_type": "code",
      "source": [
        "#Loading in the data from Keras's datasets\n",
        "\n",
        "cifar10 = tf.keras.datasets.cifar10\n",
        "\n",
        "(x_train, y_train), (x_test, y_test) = cifar10.load_data()\n",
        "x_train, x_test = x_train / 255.0, x_test / 255.0\n",
        "y_train, y_test = y_train.flatten(), y_test.flatten()\n",
        "print(\"Training Dataset size: \",x_train.shape)\n",
        "print(\"Output size: \",y_train.shape)"
      ],
      "metadata": {
        "colab": {
          "base_uri": "https://localhost:8080/"
        },
        "id": "pCWoEQzC_Jml",
        "outputId": "17674d2e-acf1-4305-f06f-a44f8e3326c8"
      },
      "execution_count": null,
      "outputs": [
        {
          "output_type": "stream",
          "name": "stdout",
          "text": [
            "Downloading data from https://www.cs.toronto.edu/~kriz/cifar-10-python.tar.gz\n",
            "170500096/170498071 [==============================] - 2s 0us/step\n",
            "170508288/170498071 [==============================] - 2s 0us/step\n",
            "Training Dataset size:  (50000, 32, 32, 3)\n",
            "Output size:  (50000,)\n"
          ]
        }
      ]
    },
    {
      "cell_type": "code",
      "source": [
        "# Calculating no. of classes\n",
        "\n",
        "K = len(set(y_train))\n",
        "print('No of classes in output set is: ',K)"
      ],
      "metadata": {
        "colab": {
          "base_uri": "https://localhost:8080/"
        },
        "id": "WkXxV4ck_uRT",
        "outputId": "7fa61e99-fb62-447d-a696-76d4ccdfb7d6"
      },
      "execution_count": null,
      "outputs": [
        {
          "output_type": "stream",
          "name": "stdout",
          "text": [
            "No of classes in output set is:  10\n"
          ]
        }
      ]
    },
    {
      "cell_type": "code",
      "source": [
        "# Building the model using Keras functional API\n",
        "\n",
        "i = Input(shape=x_train[0].shape)\n",
        "x = Conv2D(32, kernel_size=(3,3), strides=2, activation='relu')(i)\n",
        "x = Conv2D(64, kernel_size=(3,3), strides=2, activation='relu')(x)\n",
        "x = Conv2D(128, kernel_size=(3,3), strides=2, activation='relu')(x)\n",
        "\n",
        "x = Flatten()(x)\n",
        "x = Dropout(0.5)(x)\n",
        "x = Dense(1024, activation='relu')(x)\n",
        "x = Dropout(0.2)(x)\n",
        "x = Dense(K, activation='softmax')(x)\n",
        "\n",
        "model = Model(i,x)\n"
      ],
      "metadata": {
        "id": "1VpT6iLa_3Q7"
      },
      "execution_count": null,
      "outputs": []
    },
    {
      "cell_type": "code",
      "source": [
        "# Compiling and fitting the Model\n",
        "\n",
        "model.compile(optimizer = 'adam',\n",
        "              loss = 'sparse_categorical_crossentropy',\n",
        "              metrics=['accuracy'])\n",
        "r = model.fit(x_train, y_train, validation_data=(x_test, y_test), epochs=15)\n",
        "model.summary()"
      ],
      "metadata": {
        "colab": {
          "base_uri": "https://localhost:8080/"
        },
        "id": "DpNvxEBQAFJy",
        "outputId": "57752a4c-04df-4513-a3aa-b717db4b6298"
      },
      "execution_count": null,
      "outputs": [
        {
          "output_type": "stream",
          "name": "stdout",
          "text": [
            "Epoch 1/15\n",
            "1563/1563 [==============================] - 56s 35ms/step - loss: 1.5586 - accuracy: 0.4336 - val_loss: 1.2925 - val_accuracy: 0.5301\n",
            "Epoch 2/15\n",
            "1563/1563 [==============================] - 56s 36ms/step - loss: 1.2740 - accuracy: 0.5421 - val_loss: 1.1235 - val_accuracy: 0.6022\n",
            "Epoch 3/15\n",
            "1563/1563 [==============================] - 55s 35ms/step - loss: 1.1348 - accuracy: 0.5927 - val_loss: 1.0066 - val_accuracy: 0.6434\n",
            "Epoch 4/15\n",
            "1563/1563 [==============================] - 58s 37ms/step - loss: 1.0426 - accuracy: 0.6294 - val_loss: 1.0006 - val_accuracy: 0.6444\n",
            "Epoch 5/15\n",
            "1563/1563 [==============================] - 56s 36ms/step - loss: 0.9738 - accuracy: 0.6543 - val_loss: 0.9060 - val_accuracy: 0.6827\n",
            "Epoch 6/15\n",
            "1563/1563 [==============================] - 56s 36ms/step - loss: 0.9143 - accuracy: 0.6762 - val_loss: 0.9619 - val_accuracy: 0.6621\n",
            "Epoch 7/15\n",
            "1563/1563 [==============================] - 56s 36ms/step - loss: 0.8660 - accuracy: 0.6902 - val_loss: 0.8457 - val_accuracy: 0.7090\n",
            "Epoch 8/15\n",
            "1563/1563 [==============================] - 55s 35ms/step - loss: 0.8245 - accuracy: 0.7080 - val_loss: 0.8691 - val_accuracy: 0.6948\n",
            "Epoch 9/15\n",
            "1563/1563 [==============================] - 55s 35ms/step - loss: 0.7845 - accuracy: 0.7229 - val_loss: 0.8229 - val_accuracy: 0.7118\n",
            "Epoch 10/15\n",
            "1563/1563 [==============================] - 54s 35ms/step - loss: 0.7471 - accuracy: 0.7365 - val_loss: 0.8164 - val_accuracy: 0.7171\n",
            "Epoch 11/15\n",
            "1563/1563 [==============================] - 54s 34ms/step - loss: 0.7205 - accuracy: 0.7422 - val_loss: 0.7984 - val_accuracy: 0.7192\n",
            "Epoch 12/15\n",
            "1563/1563 [==============================] - 55s 35ms/step - loss: 0.6999 - accuracy: 0.7501 - val_loss: 0.8192 - val_accuracy: 0.7175\n",
            "Epoch 13/15\n",
            "1563/1563 [==============================] - 57s 36ms/step - loss: 0.6810 - accuracy: 0.7559 - val_loss: 0.8035 - val_accuracy: 0.7239\n",
            "Epoch 14/15\n",
            "1563/1563 [==============================] - 55s 35ms/step - loss: 0.6582 - accuracy: 0.7658 - val_loss: 0.7977 - val_accuracy: 0.7246\n",
            "Epoch 15/15\n",
            "1563/1563 [==============================] - 54s 34ms/step - loss: 0.6397 - accuracy: 0.7721 - val_loss: 0.8263 - val_accuracy: 0.7122\n",
            "Model: \"model\"\n",
            "_________________________________________________________________\n",
            " Layer (type)                Output Shape              Param #   \n",
            "=================================================================\n",
            " input_1 (InputLayer)        [(None, 32, 32, 3)]       0         \n",
            "                                                                 \n",
            " conv2d (Conv2D)             (None, 15, 15, 32)        896       \n",
            "                                                                 \n",
            " conv2d_1 (Conv2D)           (None, 7, 7, 64)          18496     \n",
            "                                                                 \n",
            " conv2d_2 (Conv2D)           (None, 3, 3, 128)         73856     \n",
            "                                                                 \n",
            " flatten (Flatten)           (None, 1152)              0         \n",
            "                                                                 \n",
            " dropout (Dropout)           (None, 1152)              0         \n",
            "                                                                 \n",
            " dense (Dense)               (None, 1024)              1180672   \n",
            "                                                                 \n",
            " dropout_1 (Dropout)         (None, 1024)              0         \n",
            "                                                                 \n",
            " dense_1 (Dense)             (None, 10)                10250     \n",
            "                                                                 \n",
            "=================================================================\n",
            "Total params: 1,284,170\n",
            "Trainable params: 1,284,170\n",
            "Non-trainable params: 0\n",
            "_________________________________________________________________\n"
          ]
        }
      ]
    },
    {
      "cell_type": "code",
      "source": [
        "# Plotting loss per iteration\n",
        "plt.plot(r.history['loss'],label='loss')\n",
        "plt.plot(r.history['val_loss'],label='val_loss')\n",
        "plt.legend()"
      ],
      "metadata": {
        "colab": {
          "base_uri": "https://localhost:8080/",
          "height": 285
        },
        "id": "A72gDHNAAOFr",
        "outputId": "870e1116-3348-4b9c-e2e8-7df4f168f0af"
      },
      "execution_count": null,
      "outputs": [
        {
          "output_type": "execute_result",
          "data": {
            "text/plain": [
              "<matplotlib.legend.Legend at 0x7fda0c52f290>"
            ]
          },
          "metadata": {},
          "execution_count": 6
        },
        {
          "output_type": "display_data",
          "data": {
            "text/plain": [
              "<Figure size 432x288 with 1 Axes>"
            ],
            "image/png": "[encoded data removed]"
          },
          "metadata": {
            "needs_background": "light"
          }
        }
      ]
    },
    {
      "cell_type": "code",
      "source": [
        "# Plotting accuracy per iteration\n",
        "plt.plot(r.history['accuracy'],label='accuracy')\n",
        "plt.plot(r.history['val_accuracy'],label='val_accuracy')\n",
        "plt.legend()"
      ],
      "metadata": {
        "colab": {
          "base_uri": "https://localhost:8080/",
          "height": 282
        },
        "id": "OCUZNnenAPZk",
        "outputId": "093ace2c-c103-4582-8732-50145e29ebce"
      },
      "execution_count": null,
      "outputs": [
        {
          "output_type": "execute_result",
          "data": {
            "text/plain": [
              "<matplotlib.legend.Legend at 0x7fda0c029f50>"
            ]
          },
          "metadata": {},
          "execution_count": 7
        },
        {
          "output_type": "display_data",
          "data": {
            "text/plain": [
              "<Figure size 432x288 with 1 Axes>"
            ],
            "image/png": "[encoded data removed]"
          },
          "metadata": {
            "needs_background": "light"
          }
        }
      ]
    },
    {
      "cell_type": "code",
      "source": [
        "# Evaluating our model\n",
        "\n",
        "print(model.evaluate(x_test, y_test))"
      ],
      "metadata": {
        "colab": {
          "base_uri": "https://localhost:8080/"
        },
        "id": "GoNcWtf2ARGN",
        "outputId": "b04d1b74-37b9-4693-9c90-acbeaeff6277"
      },
      "execution_count": null,
      "outputs": [
        {
          "output_type": "stream",
          "name": "stdout",
          "text": [
            "313/313 [==============================] - 3s 10ms/step - loss: 0.8263 - accuracy: 0.7122\n",
            "[0.826286256313324, 0.7121999859809875]\n"
          ]
        }
      ]
    },
    {
      "cell_type": "markdown",
      "source": [
        "## **Plotting a Confusion Matrix for the classification**"
      ],
      "metadata": {
        "id": "rnvqzOVkAUZ0"
      }
    },
    {
      "cell_type": "code",
      "source": [
        "from sklearn.metrics import confusion_matrix\n",
        "import itertools\n",
        "\n",
        "def plot_confusion_matrix(cm, classes, normalize='False', title='Confusion Matrix', cmap='spring'):\n",
        "\n",
        "  # This function returns a confusion matrix. Normalization can be applied by setting normalize=True\n",
        "\n",
        "  if normalize:\n",
        "    cm = cm.astype('float') / cm.sum(axis=1)[:,np.newaxis] #astype() is used to convert a pandas object to a particular datatype\n",
        "    print('Normalized Confusion Matrix')\n",
        "  else:\n",
        "    print('Confusion Matrix, without normalization')\n",
        "  \n",
        "  print(cm)\n",
        "\n",
        "  #used when display resolution and image resolution are not same(Displays the exact image)\n",
        "  plt.imshow(cm, interpolation='nearest', cmap=cmap) \n",
        "\n",
        "  plt.title(title)\n",
        "  plt.colorbar()\n",
        "  tick_marks = np.arange(len(classes)) # No. of tick marks generated as per the no of classes\n",
        "  plt.xticks(tick_marks, classes, rotation=45)\n",
        "  plt.yticks(tick_marks, classes)\n",
        "\n",
        "  fmt = '.2f' if normalize else 'd'\n",
        "  thresh = cm.max()/2.0\n",
        "  for i,j in itertools.product(range(cm.shape[0]), range(cm.shape[1])):\n",
        "    plt.text(j, i, format( cm[i, j], fmt), horizontalalignment = 'center', color = 'red' if cm[i,j] > thresh else 'black')\n",
        "\n",
        "  plt.tight_layout()\n",
        "  plt.ylabel('True Label')\n",
        "  plt.xlabel('Predicted Label')\n",
        "  plt.show()\n",
        "\n",
        "p_test = model.predict(x_test).argmax(axis=1)\n",
        "cm = confusion_matrix(y_test, p_test)\n",
        "plot_confusion_matrix(cm, list(range(10)), False) # Sending the confusion matrix and 10 class indexes to the plot function"
      ],
      "metadata": {
        "colab": {
          "base_uri": "https://localhost:8080/",
          "height": 502
        },
        "id": "ADbRHahqATnr",
        "outputId": "a0da6106-3031-4ed8-f865-798ece631fc1"
      },
      "execution_count": null,
      "outputs": [
        {
          "output_type": "stream",
          "name": "stdout",
          "text": [
            "Confusion Matrix, without normalization\n",
            "[[747  30  29  20  10   5   5   8 116  30]\n",
            " [ 12 871   1   6   1   3   6   1  29  70]\n",
            " [ 83   7 593  69  59  89  47  24  24   5]\n",
            " [ 29   9  70 536  38 200  62  21  20  15]\n",
            " [ 35   3  95  91 604  55  56  41  17   3]\n",
            " [ 16   4  61 207  34 618  20  24  10   6]\n",
            " [  6  13  40  91  18  29 780   5  14   4]\n",
            " [ 23   5  32  56  54  89   8 707   7  19]\n",
            " [ 37  36   6  14   8   5   4   4 872  14]\n",
            " [ 26  80   8  16   2  12   8  16  38 794]]\n"
          ]
        },
        {
          "output_type": "display_data",
          "data": {
            "text/plain": [
              "<Figure size 432x288 with 2 Axes>"
            ],
            "image/png": "[encoded data removed]"
          },
          "metadata": {
            "needs_background": "light"
          }
        }
      ]
    },
    {
      "cell_type": "code",
      "source": [
        "labels = ['airplane', 'automobile', 'bird', 'cat', 'deer', 'dog', 'frog', 'horse', 'ship', 'truck']\n",
        "\n",
        "misclassified_idx = np.where(p_test != y_test)[0]\n",
        "i = np.random.choice(misclassified_idx)\n",
        "plt.imshow(x_test[i], cmap='gray')\n",
        "plt.title(f'True Label:{labels[y_test[i]]}   Predicted Label:{labels[p_test[i]]}')"
      ],
      "metadata": {
        "colab": {
          "base_uri": "https://localhost:8080/",
          "height": 298
        },
        "id": "XqDQneXTAYhb",
        "outputId": "51af6c56-4a73-4b22-9ea8-cdff555668ba"
      },
      "execution_count": null,
      "outputs": [
        {
          "output_type": "execute_result",
          "data": {
            "text/plain": [
              "Text(0.5, 1.0, 'True Label:deer   Predicted Label:bird')"
            ]
          },
          "metadata": {},
          "execution_count": 10
        },
        {
          "output_type": "display_data",
          "data": {
            "text/plain": [
              "<Figure size 432x288 with 1 Axes>"
            ],
            "image/png": "[encoded data removed]"
          },
          "metadata": {
            "needs_background": "light"
          }
        }
      ]
    },
    {
      "cell_type": "markdown",
      "source": [
        "## **Developing New Model inspired from VGG and implementing batch normalisation**"
      ],
      "metadata": {
        "id": "05kclteMLXtb"
      }
    },
    {
      "cell_type": "code",
      "source": [
        "# Building the model using Keras functional API\n",
        "\n",
        "i = Input(shape=x_train[0].shape)\n",
        "\n",
        "x = Conv2D(32, kernel_size=(3,3), padding='same', activation='relu')(i)\n",
        "x = BatchNormalization()(x) \n",
        "x = Conv2D(32, kernel_size=(3,3), padding='same', activation='relu')(x)\n",
        "x = BatchNormalization()(x) \n",
        "x = MaxPooling2D((2,2))(x)\n",
        "\n",
        "x = Conv2D(64, kernel_size=(3,3), padding='same', activation='relu')(i)\n",
        "x = BatchNormalization()(x) \n",
        "x = Conv2D(64, kernel_size=(3,3), padding='same', activation='relu')(x)\n",
        "x = BatchNormalization()(x) \n",
        "x = MaxPooling2D((2,2))(x)\n",
        "\n",
        "x = Conv2D(128, kernel_size=(3,3), padding='same', activation='relu')(i)\n",
        "x = BatchNormalization()(x) \n",
        "x = Conv2D(128, kernel_size=(3,3), padding='same', activation='relu')(x)\n",
        "x = BatchNormalization()(x) \n",
        "x = MaxPooling2D((2,2))(x)\n",
        "\n",
        "x = Flatten()(x)\n",
        "x = Dropout(0.2)(x)\n",
        "x = Dense(1024, activation='relu')(x)\n",
        "x = Dropout(0.2)(x)\n",
        "x = Dense(K, activation='softmax')(x)\n",
        "\n",
        "model2 = Model(i,x)"
      ],
      "metadata": {
        "id": "OxiP4BALLiV8"
      },
      "execution_count": null,
      "outputs": []
    },
    {
      "cell_type": "code",
      "source": [
        "# Compiling the model\n",
        "model2.compile(optimizer='adam',\n",
        "              loss = 'sparse_categorical_crossentropy',\n",
        "              metrics=['accuracy'])"
      ],
      "metadata": {
        "id": "Jqpk0-pHOWQ9"
      },
      "execution_count": null,
      "outputs": []
    },
    {
      "cell_type": "code",
      "source": [
        "r2 = model2.fit(x_train, y_train, validation_data=(x_test, y_test), epochs=50)"
      ],
      "metadata": {
        "colab": {
          "base_uri": "https://localhost:8080/"
        },
        "id": "-TghOi6QOk-m",
        "outputId": "2d91adc3-d6ee-43c0-daec-84deff2dad8f"
      },
      "execution_count": null,
      "outputs": [
        {
          "output_type": "stream",
          "name": "stdout",
          "text": [
            "Epoch 1/50\n",
            "1563/1563 [==============================] - 39s 18ms/step - loss: 1.8983 - accuracy: 0.4290 - val_loss: 1.2584 - val_accuracy: 0.5475\n",
            "Epoch 2/50\n",
            "1563/1563 [==============================] - 28s 18ms/step - loss: 1.2332 - accuracy: 0.5675 - val_loss: 1.2270 - val_accuracy: 0.5671\n",
            "Epoch 3/50\n",
            "1563/1563 [==============================] - 28s 18ms/step - loss: 1.0704 - accuracy: 0.6277 - val_loss: 1.2691 - val_accuracy: 0.5686\n",
            "Epoch 4/50\n",
            "1563/1563 [==============================] - 28s 18ms/step - loss: 0.9442 - accuracy: 0.6761 - val_loss: 1.1015 - val_accuracy: 0.6351\n",
            "Epoch 5/50\n",
            "1563/1563 [==============================] - 28s 18ms/step - loss: 0.8320 - accuracy: 0.7123 - val_loss: 1.0846 - val_accuracy: 0.6476\n",
            "Epoch 6/50\n",
            "1563/1563 [==============================] - 28s 18ms/step - loss: 0.7456 - accuracy: 0.7393 - val_loss: 1.0799 - val_accuracy: 0.6592\n",
            "Epoch 7/50\n",
            "1563/1563 [==============================] - 28s 18ms/step - loss: 0.6755 - accuracy: 0.7672 - val_loss: 1.2377 - val_accuracy: 0.6528\n",
            "Epoch 8/50\n",
            "1563/1563 [==============================] - 28s 18ms/step - loss: 0.6123 - accuracy: 0.7865 - val_loss: 1.0492 - val_accuracy: 0.6970\n",
            "Epoch 9/50\n",
            "1563/1563 [==============================] - 28s 18ms/step - loss: 0.5601 - accuracy: 0.8054 - val_loss: 1.2643 - val_accuracy: 0.6702\n",
            "Epoch 10/50\n",
            "1563/1563 [==============================] - 28s 18ms/step - loss: 0.5213 - accuracy: 0.8183 - val_loss: 1.0871 - val_accuracy: 0.6825\n",
            "Epoch 11/50\n",
            "1563/1563 [==============================] - 28s 18ms/step - loss: 0.4823 - accuracy: 0.8312 - val_loss: 1.2391 - val_accuracy: 0.6507\n",
            "Epoch 12/50\n",
            "1563/1563 [==============================] - 28s 18ms/step - loss: 0.4550 - accuracy: 0.8428 - val_loss: 1.0383 - val_accuracy: 0.7128\n",
            "Epoch 13/50\n",
            "1563/1563 [==============================] - 28s 18ms/step - loss: 0.4353 - accuracy: 0.8482 - val_loss: 1.0731 - val_accuracy: 0.7026\n",
            "Epoch 14/50\n",
            "1563/1563 [==============================] - 28s 18ms/step - loss: 0.3978 - accuracy: 0.8629 - val_loss: 1.1893 - val_accuracy: 0.7023\n",
            "Epoch 15/50\n",
            "1563/1563 [==============================] - 28s 18ms/step - loss: 0.3770 - accuracy: 0.8689 - val_loss: 1.2143 - val_accuracy: 0.7191\n",
            "Epoch 16/50\n",
            "1563/1563 [==============================] - 28s 18ms/step - loss: 0.3578 - accuracy: 0.8774 - val_loss: 1.1931 - val_accuracy: 0.7083\n",
            "Epoch 17/50\n",
            "1563/1563 [==============================] - 28s 18ms/step - loss: 0.3357 - accuracy: 0.8827 - val_loss: 1.2584 - val_accuracy: 0.7111\n",
            "Epoch 18/50\n",
            "1563/1563 [==============================] - 28s 18ms/step - loss: 0.3214 - accuracy: 0.8890 - val_loss: 1.0920 - val_accuracy: 0.7009\n",
            "Epoch 19/50\n",
            "1563/1563 [==============================] - 29s 19ms/step - loss: 0.3092 - accuracy: 0.8930 - val_loss: 1.1430 - val_accuracy: 0.7145\n",
            "Epoch 20/50\n",
            "1563/1563 [==============================] - 28s 18ms/step - loss: 0.3032 - accuracy: 0.8964 - val_loss: 1.0837 - val_accuracy: 0.6881\n",
            "Epoch 21/50\n",
            "1563/1563 [==============================] - 28s 18ms/step - loss: 0.2827 - accuracy: 0.9026 - val_loss: 1.7194 - val_accuracy: 0.7122\n",
            "Epoch 22/50\n",
            "1563/1563 [==============================] - 28s 18ms/step - loss: 0.2737 - accuracy: 0.9045 - val_loss: 1.1488 - val_accuracy: 0.6913\n",
            "Epoch 23/50\n",
            "1563/1563 [==============================] - 28s 18ms/step - loss: 0.2657 - accuracy: 0.9091 - val_loss: 1.1093 - val_accuracy: 0.6816\n",
            "Epoch 24/50\n",
            "1563/1563 [==============================] - 28s 18ms/step - loss: 0.2534 - accuracy: 0.9135 - val_loss: 1.3240 - val_accuracy: 0.7077\n",
            "Epoch 25/50\n",
            "1563/1563 [==============================] - 28s 18ms/step - loss: 0.2422 - accuracy: 0.9176 - val_loss: 1.2558 - val_accuracy: 0.7201\n",
            "Epoch 26/50\n",
            "1563/1563 [==============================] - 28s 18ms/step - loss: 0.2401 - accuracy: 0.9176 - val_loss: 1.0816 - val_accuracy: 0.6592\n",
            "Epoch 27/50\n",
            "1563/1563 [==============================] - 28s 18ms/step - loss: 0.2322 - accuracy: 0.9201 - val_loss: 1.2424 - val_accuracy: 0.7137\n",
            "Epoch 28/50\n",
            "1563/1563 [==============================] - 29s 19ms/step - loss: 0.2212 - accuracy: 0.9232 - val_loss: 1.3850 - val_accuracy: 0.7147\n",
            "Epoch 29/50\n",
            "1563/1563 [==============================] - 29s 19ms/step - loss: 0.2162 - accuracy: 0.9264 - val_loss: 1.1495 - val_accuracy: 0.6593\n",
            "Epoch 30/50\n",
            "1563/1563 [==============================] - 29s 19ms/step - loss: 0.2133 - accuracy: 0.9273 - val_loss: 1.2537 - val_accuracy: 0.7096\n",
            "Epoch 31/50\n",
            "1563/1563 [==============================] - 28s 18ms/step - loss: 0.2080 - accuracy: 0.9294 - val_loss: 1.3113 - val_accuracy: 0.7193\n",
            "Epoch 32/50\n",
            "1563/1563 [==============================] - 28s 18ms/step - loss: 0.1942 - accuracy: 0.9348 - val_loss: 1.3232 - val_accuracy: 0.7153\n",
            "Epoch 33/50\n",
            "1563/1563 [==============================] - 28s 18ms/step - loss: 0.1896 - accuracy: 0.9353 - val_loss: 1.7589 - val_accuracy: 0.7111\n",
            "Epoch 34/50\n",
            "1563/1563 [==============================] - 28s 18ms/step - loss: 0.1860 - accuracy: 0.9375 - val_loss: 1.5034 - val_accuracy: 0.7180\n",
            "Epoch 35/50\n",
            "1563/1563 [==============================] - 28s 18ms/step - loss: 0.1825 - accuracy: 0.9384 - val_loss: 1.9109 - val_accuracy: 0.7297\n",
            "Epoch 36/50\n",
            "1563/1563 [==============================] - 28s 18ms/step - loss: 0.1792 - accuracy: 0.9399 - val_loss: 1.2579 - val_accuracy: 0.7053\n",
            "Epoch 37/50\n",
            "1563/1563 [==============================] - 28s 18ms/step - loss: 0.1698 - accuracy: 0.9432 - val_loss: 1.4295 - val_accuracy: 0.7285\n",
            "Epoch 38/50\n",
            "1563/1563 [==============================] - 29s 19ms/step - loss: 0.1713 - accuracy: 0.9432 - val_loss: 1.4756 - val_accuracy: 0.7290\n",
            "Epoch 39/50\n",
            "1563/1563 [==============================] - 28s 18ms/step - loss: 0.1640 - accuracy: 0.9452 - val_loss: 1.4805 - val_accuracy: 0.7292\n",
            "Epoch 40/50\n",
            "1563/1563 [==============================] - 28s 18ms/step - loss: 0.1627 - accuracy: 0.9461 - val_loss: 1.3819 - val_accuracy: 0.7246\n",
            "Epoch 41/50\n",
            "1563/1563 [==============================] - 28s 18ms/step - loss: 0.1537 - accuracy: 0.9493 - val_loss: 1.6012 - val_accuracy: 0.7214\n",
            "Epoch 42/50\n",
            "1563/1563 [==============================] - 28s 18ms/step - loss: 0.1580 - accuracy: 0.9483 - val_loss: 1.5096 - val_accuracy: 0.7102\n",
            "Epoch 43/50\n",
            "1563/1563 [==============================] - 28s 18ms/step - loss: 0.1522 - accuracy: 0.9494 - val_loss: 1.7711 - val_accuracy: 0.7192\n",
            "Epoch 44/50\n",
            "1563/1563 [==============================] - 28s 18ms/step - loss: 0.1503 - accuracy: 0.9510 - val_loss: 1.7336 - val_accuracy: 0.7349\n",
            "Epoch 45/50\n",
            "1563/1563 [==============================] - 28s 18ms/step - loss: 0.1374 - accuracy: 0.9545 - val_loss: 1.2555 - val_accuracy: 0.7170\n",
            "Epoch 46/50\n",
            "1563/1563 [==============================] - 28s 18ms/step - loss: 0.1516 - accuracy: 0.9512 - val_loss: 1.2512 - val_accuracy: 0.6989\n",
            "Epoch 47/50\n",
            "1563/1563 [==============================] - 28s 18ms/step - loss: 0.1368 - accuracy: 0.9553 - val_loss: 1.5779 - val_accuracy: 0.7237\n",
            "Epoch 48/50\n",
            "1563/1563 [==============================] - 28s 18ms/step - loss: 0.1365 - accuracy: 0.9560 - val_loss: 2.9193 - val_accuracy: 0.7323\n",
            "Epoch 49/50\n",
            "1563/1563 [==============================] - 28s 18ms/step - loss: 0.1353 - accuracy: 0.9567 - val_loss: 1.3043 - val_accuracy: 0.6975\n",
            "Epoch 50/50\n",
            "1563/1563 [==============================] - 28s 18ms/step - loss: 0.1354 - accuracy: 0.9563 - val_loss: 1.5415 - val_accuracy: 0.7295\n"
          ]
        }
      ]
    },
    {
      "cell_type": "code",
      "source": [
        "# Evaluating our model\n",
        "\n",
        "print(model2.evaluate(x_test, y_test))"
      ],
      "metadata": {
        "id": "FPc8zks2PoDr",
        "colab": {
          "base_uri": "https://localhost:8080/"
        },
        "outputId": "9c59fa29-3b99-40db-873a-c78a22b5c88c"
      },
      "execution_count": null,
      "outputs": [
        {
          "output_type": "stream",
          "name": "stdout",
          "text": [
            "313/313 [==============================] - 2s 5ms/step - loss: 1.5415 - accuracy: 0.7295\n",
            "[1.5414892435073853, 0.7294999957084656]\n"
          ]
        }
      ]
    },
    {
      "cell_type": "code",
      "source": [
        "model2.summary()"
      ],
      "metadata": {
        "id": "r7ew2cGGPMaz",
        "colab": {
          "base_uri": "https://localhost:8080/"
        },
        "outputId": "5cac0ccd-e7d2-4202-fced-e48a6ce14d03"
      },
      "execution_count": null,
      "outputs": [
        {
          "output_type": "stream",
          "name": "stdout",
          "text": [
            "Model: \"model\"\n",
            "_________________________________________________________________\n",
            " Layer (type)                Output Shape              Param #   \n",
            "=================================================================\n",
            " input_1 (InputLayer)        [(None, 32, 32, 3)]       0         \n",
            "                                                                 \n",
            " conv2d_4 (Conv2D)           (None, 32, 32, 128)       3584      \n",
            "                                                                 \n",
            " batch_normalization_4 (Batc  (None, 32, 32, 128)      512       \n",
            " hNormalization)                                                 \n",
            "                                                                 \n",
            " conv2d_5 (Conv2D)           (None, 32, 32, 128)       147584    \n",
            "                                                                 \n",
            " batch_normalization_5 (Batc  (None, 32, 32, 128)      512       \n",
            " hNormalization)                                                 \n",
            "                                                                 \n",
            " max_pooling2d_2 (MaxPooling  (None, 16, 16, 128)      0         \n",
            " 2D)                                                             \n",
            "                                                                 \n",
            " flatten (Flatten)           (None, 32768)             0         \n",
            "                                                                 \n",
            " dropout (Dropout)           (None, 32768)             0         \n",
            "                                                                 \n",
            " dense (Dense)               (None, 1024)              33555456  \n",
            "                                                                 \n",
            " dropout_1 (Dropout)         (None, 1024)              0         \n",
            "                                                                 \n",
            " dense_1 (Dense)             (None, 10)                10250     \n",
            "                                                                 \n",
            "=================================================================\n",
            "Total params: 33,717,898\n",
            "Trainable params: 33,717,386\n",
            "Non-trainable params: 512\n",
            "_________________________________________________________________\n"
          ]
        }
      ]
    },
    {
      "cell_type": "code",
      "source": [
        "# Plotting loss per iteration\n",
        "plt.plot(r2.history['loss'],label='loss')\n",
        "plt.plot(r2.history['val_loss'],label='val_loss')\n",
        "plt.legend()"
      ],
      "metadata": {
        "id": "E6dIQDhUPyoD",
        "colab": {
          "base_uri": "https://localhost:8080/",
          "height": 282
        },
        "outputId": "26470dac-a53b-4b8b-d535-c6127672b07b"
      },
      "execution_count": null,
      "outputs": [
        {
          "output_type": "execute_result",
          "data": {
            "text/plain": [
              "<matplotlib.legend.Legend at 0x7f67ff3af2d0>"
            ]
          },
          "metadata": {},
          "execution_count": 10
        },
        {
          "output_type": "display_data",
          "data": {
            "text/plain": [
              "<Figure size 432x288 with 1 Axes>"
            ],
            "image/png": "[encoded data removed]"
          },
          "metadata": {
            "needs_background": "light"
          }
        }
      ]
    },
    {
      "cell_type": "code",
      "source": [
        "# Plotting accuracy per iteration\n",
        "plt.plot(r2.history['accuracy'],label='accuracy')\n",
        "plt.plot(r2.history['val_accuracy'],label='val_accuracy')\n",
        "plt.legend()"
      ],
      "metadata": {
        "id": "Xd3XlIQIP2Dd",
        "colab": {
          "base_uri": "https://localhost:8080/",
          "height": 282
        },
        "outputId": "ef061e1c-d292-480b-cd88-196e242a5716"
      },
      "execution_count": null,
      "outputs": [
        {
          "output_type": "execute_result",
          "data": {
            "text/plain": [
              "<matplotlib.legend.Legend at 0x7f67fee73d10>"
            ]
          },
          "metadata": {},
          "execution_count": 11
        },
        {
          "output_type": "display_data",
          "data": {
            "text/plain": [
              "<Figure size 432x288 with 1 Axes>"
            ],
            "image/png": "[encoded data removed]"
          },
          "metadata": {
            "needs_background": "light"
          }
        }
      ]
    },
    {
      "cell_type": "markdown",
      "source": [
        "# **Fitting with data augmentation**"
      ],
      "metadata": {
        "id": "jlp4ZURzNQ_t"
      }
    },
    {
      "cell_type": "code",
      "source": [
        "# We can do fresh fit_generator to start new model learning from scratch\n",
        "batch_size = 32\n",
        "data_generator = tf.keras.preprocessing.image.ImageDataGenerator(width_shift_range=0.1, height_shift_range=0.1, horizontal_flip=True)\n",
        "train_generator = data_generator.flow(x_train, y_train, batch_size)\n",
        "steps_per_epoch = x_train[0].shape[0] // batch_size\n",
        "r3 = model2.fit_generator(train_generator, validation_data=(x_test, y_test), steps_per_epoch=steps_per_epoch, epochs=50 )"
      ],
      "metadata": {
        "id": "N23yFb1UMwYc",
        "colab": {
          "base_uri": "https://localhost:8080/"
        },
        "outputId": "f3e835ab-1d13-4c84-c8be-996cc44e5307"
      },
      "execution_count": null,
      "outputs": [
        {
          "output_type": "stream",
          "name": "stdout",
          "text": [
            "Epoch 1/50\n"
          ]
        },
        {
          "output_type": "stream",
          "name": "stderr",
          "text": [
            "/usr/local/lib/python3.7/dist-packages/ipykernel_launcher.py:6: UserWarning: `Model.fit_generator` is deprecated and will be removed in a future version. Please use `Model.fit`, which supports generators.\n",
            "  \n"
          ]
        },
        {
          "output_type": "stream",
          "name": "stdout",
          "text": [
            "1/1 [==============================] - 3s 3s/step - loss: 1.5323 - accuracy: 0.7500 - val_loss: 1.4765 - val_accuracy: 0.7259\n",
            "Epoch 2/50\n",
            "1/1 [==============================] - 1s 1s/step - loss: 1.8110 - accuracy: 0.7188 - val_loss: 1.4206 - val_accuracy: 0.7219\n",
            "Epoch 3/50\n",
            "1/1 [==============================] - 1s 1s/step - loss: 3.1785 - accuracy: 0.5625 - val_loss: 1.3077 - val_accuracy: 0.7094\n",
            "Epoch 4/50\n",
            "1/1 [==============================] - 1s 1s/step - loss: 1.9206 - accuracy: 0.5938 - val_loss: 1.2221 - val_accuracy: 0.6905\n",
            "Epoch 5/50\n",
            "1/1 [==============================] - 1s 1s/step - loss: 1.0402 - accuracy: 0.7500 - val_loss: 1.1747 - val_accuracy: 0.6601\n",
            "Epoch 6/50\n",
            "1/1 [==============================] - 1s 1s/step - loss: 1.1408 - accuracy: 0.6875 - val_loss: 1.1861 - val_accuracy: 0.6187\n",
            "Epoch 7/50\n",
            "1/1 [==============================] - 1s 1s/step - loss: 2.1609 - accuracy: 0.4688 - val_loss: 1.2382 - val_accuracy: 0.5721\n",
            "Epoch 8/50\n",
            "1/1 [==============================] - 1s 1s/step - loss: 1.1439 - accuracy: 0.7188 - val_loss: 1.3227 - val_accuracy: 0.5206\n",
            "Epoch 9/50\n",
            "1/1 [==============================] - 1s 1s/step - loss: 1.3654 - accuracy: 0.5312 - val_loss: 1.4053 - val_accuracy: 0.4795\n",
            "Epoch 10/50\n",
            "1/1 [==============================] - 1s 1s/step - loss: 1.1210 - accuracy: 0.5938 - val_loss: 1.4909 - val_accuracy: 0.4420\n",
            "Epoch 11/50\n",
            "1/1 [==============================] - 1s 1s/step - loss: 1.9888 - accuracy: 0.5312 - val_loss: 1.5607 - val_accuracy: 0.4101\n",
            "Epoch 12/50\n",
            "1/1 [==============================] - 1s 1s/step - loss: 1.9158 - accuracy: 0.4375 - val_loss: 1.6462 - val_accuracy: 0.3748\n",
            "Epoch 13/50\n",
            "1/1 [==============================] - 1s 1s/step - loss: 1.8027 - accuracy: 0.4688 - val_loss: 1.7336 - val_accuracy: 0.3415\n",
            "Epoch 14/50\n",
            "1/1 [==============================] - 1s 1s/step - loss: 1.4495 - accuracy: 0.4375 - val_loss: 1.8059 - val_accuracy: 0.3142\n",
            "Epoch 15/50\n",
            "1/1 [==============================] - 1s 1s/step - loss: 1.9140 - accuracy: 0.4375 - val_loss: 1.8326 - val_accuracy: 0.3048\n",
            "Epoch 16/50\n",
            "1/1 [==============================] - 3s 3s/step - loss: 1.2829 - accuracy: 0.5000 - val_loss: 1.8070 - val_accuracy: 0.3120\n",
            "Epoch 17/50\n",
            "1/1 [==============================] - 3s 3s/step - loss: 1.4017 - accuracy: 0.5000 - val_loss: 1.7761 - val_accuracy: 0.3233\n",
            "Epoch 18/50\n",
            "1/1 [==============================] - 1s 1s/step - loss: 1.9199 - accuracy: 0.4375 - val_loss: 1.7165 - val_accuracy: 0.3452\n",
            "Epoch 19/50\n",
            "1/1 [==============================] - 1s 1s/step - loss: 2.0468 - accuracy: 0.4375 - val_loss: 1.6366 - val_accuracy: 0.3785\n",
            "Epoch 20/50\n",
            "1/1 [==============================] - 1s 1s/step - loss: 1.8161 - accuracy: 0.4062 - val_loss: 1.5620 - val_accuracy: 0.4145\n",
            "Epoch 21/50\n",
            "1/1 [==============================] - 1s 1s/step - loss: 1.7679 - accuracy: 0.5000 - val_loss: 1.4998 - val_accuracy: 0.4504\n",
            "Epoch 22/50\n",
            "1/1 [==============================] - 3s 3s/step - loss: 1.5395 - accuracy: 0.4062 - val_loss: 1.4509 - val_accuracy: 0.4812\n",
            "Epoch 23/50\n",
            "1/1 [==============================] - 1s 1s/step - loss: 1.3684 - accuracy: 0.4688 - val_loss: 1.4181 - val_accuracy: 0.5087\n",
            "Epoch 24/50\n",
            "1/1 [==============================] - 1s 1s/step - loss: 1.5925 - accuracy: 0.4688 - val_loss: 1.3911 - val_accuracy: 0.5281\n",
            "Epoch 25/50\n",
            "1/1 [==============================] - 3s 3s/step - loss: 1.3219 - accuracy: 0.5000 - val_loss: 1.3729 - val_accuracy: 0.5465\n",
            "Epoch 26/50\n",
            "1/1 [==============================] - 1s 1s/step - loss: 2.0687 - accuracy: 0.3750 - val_loss: 1.3427 - val_accuracy: 0.5629\n",
            "Epoch 27/50\n",
            "1/1 [==============================] - 1s 1s/step - loss: 1.3975 - accuracy: 0.5625 - val_loss: 1.3032 - val_accuracy: 0.5801\n",
            "Epoch 28/50\n",
            "1/1 [==============================] - 1s 1s/step - loss: 1.7493 - accuracy: 0.5000 - val_loss: 1.2684 - val_accuracy: 0.5956\n",
            "Epoch 29/50\n",
            "1/1 [==============================] - 1s 1s/step - loss: 1.5406 - accuracy: 0.4375 - val_loss: 1.2436 - val_accuracy: 0.6070\n",
            "Epoch 30/50\n",
            "1/1 [==============================] - 3s 3s/step - loss: 1.0186 - accuracy: 0.6250 - val_loss: 1.2266 - val_accuracy: 0.6171\n",
            "Epoch 31/50\n",
            "1/1 [==============================] - 1s 1s/step - loss: 1.9240 - accuracy: 0.3438 - val_loss: 1.2102 - val_accuracy: 0.6297\n",
            "Epoch 32/50\n",
            "1/1 [==============================] - 1s 1s/step - loss: 1.3399 - accuracy: 0.5312 - val_loss: 1.2079 - val_accuracy: 0.6419\n",
            "Epoch 33/50\n",
            "1/1 [==============================] - 1s 1s/step - loss: 1.4471 - accuracy: 0.5625 - val_loss: 1.2214 - val_accuracy: 0.6508\n",
            "Epoch 34/50\n",
            "1/1 [==============================] - 1s 1s/step - loss: 1.4475 - accuracy: 0.4688 - val_loss: 1.2526 - val_accuracy: 0.6592\n",
            "Epoch 35/50\n",
            "1/1 [==============================] - 1s 1s/step - loss: 2.5423 - accuracy: 0.2812 - val_loss: 1.2786 - val_accuracy: 0.6605\n",
            "Epoch 36/50\n",
            "1/1 [==============================] - 1s 1s/step - loss: 1.4016 - accuracy: 0.5000 - val_loss: 1.3077 - val_accuracy: 0.6608\n",
            "Epoch 37/50\n",
            "1/1 [==============================] - 3s 3s/step - loss: 1.2917 - accuracy: 0.5312 - val_loss: 1.3608 - val_accuracy: 0.6649\n",
            "Epoch 38/50\n",
            "1/1 [==============================] - 3s 3s/step - loss: 1.6726 - accuracy: 0.4688 - val_loss: 1.4262 - val_accuracy: 0.6657\n",
            "Epoch 39/50\n",
            "1/1 [==============================] - 1s 1s/step - loss: 1.2843 - accuracy: 0.7188 - val_loss: 1.4903 - val_accuracy: 0.6707\n",
            "Epoch 40/50\n",
            "1/1 [==============================] - 1s 1s/step - loss: 1.8800 - accuracy: 0.5000 - val_loss: 1.5800 - val_accuracy: 0.6735\n",
            "Epoch 41/50\n",
            "1/1 [==============================] - 1s 1s/step - loss: 1.3314 - accuracy: 0.3750 - val_loss: 1.6782 - val_accuracy: 0.6737\n",
            "Epoch 42/50\n",
            "1/1 [==============================] - 1s 1s/step - loss: 1.5135 - accuracy: 0.3438 - val_loss: 1.8092 - val_accuracy: 0.6728\n",
            "Epoch 43/50\n",
            "1/1 [==============================] - 1s 1s/step - loss: 1.1262 - accuracy: 0.5312 - val_loss: 1.9285 - val_accuracy: 0.6737\n",
            "Epoch 44/50\n",
            "1/1 [==============================] - 1s 1s/step - loss: 1.5379 - accuracy: 0.4062 - val_loss: 2.0210 - val_accuracy: 0.6729\n",
            "Epoch 45/50\n",
            "1/1 [==============================] - 1s 1s/step - loss: 1.3173 - accuracy: 0.5938 - val_loss: 2.1026 - val_accuracy: 0.6759\n",
            "Epoch 46/50\n",
            "1/1 [==============================] - 1s 1s/step - loss: 1.3362 - accuracy: 0.5625 - val_loss: 2.1129 - val_accuracy: 0.6744\n",
            "Epoch 47/50\n",
            "1/1 [==============================] - 1s 1s/step - loss: 1.0501 - accuracy: 0.5938 - val_loss: 2.1516 - val_accuracy: 0.6723\n",
            "Epoch 48/50\n",
            "1/1 [==============================] - 3s 3s/step - loss: 1.1738 - accuracy: 0.6562 - val_loss: 2.1955 - val_accuracy: 0.6726\n",
            "Epoch 49/50\n",
            "1/1 [==============================] - 3s 3s/step - loss: 1.4046 - accuracy: 0.5312 - val_loss: 2.2321 - val_accuracy: 0.6717\n",
            "Epoch 50/50\n",
            "1/1 [==============================] - 1s 1s/step - loss: 1.5008 - accuracy: 0.4688 - val_loss: 2.3053 - val_accuracy: 0.6735\n"
          ]
        }
      ]
    },
    {
      "cell_type": "code",
      "source": [
        "model2.summary()"
      ],
      "metadata": {
        "id": "zyhdPYgxP7eV",
        "colab": {
          "base_uri": "https://localhost:8080/"
        },
        "outputId": "60b8ebd7-e4a9-4c3b-88fc-2fe36e4c2d3f"
      },
      "execution_count": null,
      "outputs": [
        {
          "output_type": "stream",
          "name": "stdout",
          "text": [
            "Model: \"model\"\n",
            "_________________________________________________________________\n",
            " Layer (type)                Output Shape              Param #   \n",
            "=================================================================\n",
            " input_1 (InputLayer)        [(None, 32, 32, 3)]       0         \n",
            "                                                                 \n",
            " conv2d_4 (Conv2D)           (None, 32, 32, 128)       3584      \n",
            "                                                                 \n",
            " batch_normalization_4 (Batc  (None, 32, 32, 128)      512       \n",
            " hNormalization)                                                 \n",
            "                                                                 \n",
            " conv2d_5 (Conv2D)           (None, 32, 32, 128)       147584    \n",
            "                                                                 \n",
            " batch_normalization_5 (Batc  (None, 32, 32, 128)      512       \n",
            " hNormalization)                                                 \n",
            "                                                                 \n",
            " max_pooling2d_2 (MaxPooling  (None, 16, 16, 128)      0         \n",
            " 2D)                                                             \n",
            "                                                                 \n",
            " flatten (Flatten)           (None, 32768)             0         \n",
            "                                                                 \n",
            " dropout (Dropout)           (None, 32768)             0         \n",
            "                                                                 \n",
            " dense (Dense)               (None, 1024)              33555456  \n",
            "                                                                 \n",
            " dropout_1 (Dropout)         (None, 1024)              0         \n",
            "                                                                 \n",
            " dense_1 (Dense)             (None, 10)                10250     \n",
            "                                                                 \n",
            "=================================================================\n",
            "Total params: 33,717,898\n",
            "Trainable params: 33,717,386\n",
            "Non-trainable params: 512\n",
            "_________________________________________________________________\n"
          ]
        }
      ]
    },
    {
      "cell_type": "code",
      "source": [
        "# Plotting loss per iteration\n",
        "plt.plot(r2.history['loss'],label='loss')\n",
        "plt.plot(r2.history['val_loss'],label='val_loss')\n",
        "plt.legend()"
      ],
      "metadata": {
        "id": "nkv0DuF0P_7t",
        "colab": {
          "base_uri": "https://localhost:8080/",
          "height": 282
        },
        "outputId": "aa0cf993-c2a9-4e1f-a5bd-62fa196abbf2"
      },
      "execution_count": null,
      "outputs": [
        {
          "output_type": "execute_result",
          "data": {
            "text/plain": [
              "<matplotlib.legend.Legend at 0x7f672369ba50>"
            ]
          },
          "metadata": {},
          "execution_count": 16
        },
        {
          "output_type": "display_data",
          "data": {
            "text/plain": [
              "<Figure size 432x288 with 1 Axes>"
            ],
            "image/png": "[encoded data removed]"
          },
          "metadata": {
            "needs_background": "light"
          }
        }
      ]
    },
    {
      "cell_type": "code",
      "source": [
        "# Plotting accuracy per iteration\n",
        "plt.plot(r2.history['accuracy'],label='accuracy')\n",
        "plt.plot(r2.history['val_accuracy'],label='val_accuracy')\n",
        "plt.legend()"
      ],
      "metadata": {
        "id": "z5YmucIWjfjs",
        "outputId": "b6a701a1-e2b7-4ce8-d254-cd8a59e247e0",
        "colab": {
          "base_uri": "https://localhost:8080/",
          "height": 282
        }
      },
      "execution_count": null,
      "outputs": [
        {
          "output_type": "execute_result",
          "data": {
            "text/plain": [
              "<matplotlib.legend.Legend at 0x7f679b74ae50>"
            ]
          },
          "metadata": {},
          "execution_count": 17
        },
        {
          "output_type": "display_data",
          "data": {
            "text/plain": [
              "<Figure size 432x288 with 1 Axes>"
            ],
            "image/png": "[encoded data removed]"
          },
          "metadata": {
            "needs_background": "light"
          }
        }
      ]
    }
  ]
}